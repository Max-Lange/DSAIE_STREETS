{
 "cells": [
  {
   "cell_type": "markdown",
   "metadata": {},
   "source": [
    "## Testing several pre-trained CNN's to determine which one to use for the project"
   ]
  },
  {
   "cell_type": "code",
   "execution_count": 1,
   "metadata": {},
   "outputs": [
    {
     "name": "stdout",
     "output_type": "stream",
     "text": [
      "WARNING:tensorflow:From c:\\Users\\heisu\\anaconda\\envs\\dsaie\\lib\\site-packages\\keras\\src\\losses.py:2976: The name tf.losses.sparse_softmax_cross_entropy is deprecated. Please use tf.compat.v1.losses.sparse_softmax_cross_entropy instead.\n",
      "\n"
     ]
    }
   ],
   "source": [
    "# for loading/processing the images and the models  \n",
    "from keras.preprocessing.image import load_img \n",
    "from keras.preprocessing.image import img_to_array \n",
    "from keras.applications import vgg16, resnet50, inception_v3, mobilenet, xception  \n",
    "from keras.models import Model\n",
    "\n",
    "# clustering and dimension reduction\n",
    "from sklearn.cluster import KMeans\n",
    "from sklearn.decomposition import PCA\n",
    "\n",
    "# for everything else\n",
    "import os\n",
    "import numpy as np\n",
    "import matplotlib.pyplot as plt\n",
    "from random import randint\n",
    "import pandas as pd\n",
    "import pickle\n",
    "import time\n",
    "import warnings\n",
    "warnings.filterwarnings('ignore')\n",
    "%matplotlib inline"
   ]
  },
  {
   "cell_type": "markdown",
   "metadata": {},
   "source": [
    "This code uses a dataset of 210 flower images to test the CNN's. Dataset is retreived from: https://www.kaggle.com/datasets/olgabelitskaya/flower-color-images"
   ]
  },
  {
   "cell_type": "code",
   "execution_count": 2,
   "metadata": {},
   "outputs": [],
   "source": [
    "# Change path\n",
    "path = r\"C:\\Users\\heisu\\OneDrive\\ドキュメント\\STREETS\\data\\Delft_NL\\imagedb\" \n",
    "\n",
    "os.chdir(path)\n",
    "\n",
    "# this list holds all the image filename\n",
    "flowers = []\n",
    "\n",
    "# creates a ScandirIterator aliased as files\n",
    "with os.scandir(path) as files:\n",
    "  # loops through each file in the directory\n",
    "    for file in files:\n",
    "        if file.name.endswith('.png'):\n",
    "          # adds only the image files to the flowers list\n",
    "            flowers.append(file.name)\n",
    "\n",
    "# exclude images with _s_a and _s_b\n",
    "images = [x for x in flowers if not x.endswith('_s_a.png')]\n",
    "images = [x for x in images if not x.endswith('_s_b.png')]\n",
    "\n",
    "\n",
    "# only the first 100 images\n",
    "images = images[:100]"
   ]
  },
  {
   "cell_type": "markdown",
   "metadata": {},
   "source": [
    "Select which models you want to compare"
   ]
  },
  {
   "cell_type": "code",
   "execution_count": 3,
   "metadata": {},
   "outputs": [
    {
     "name": "stdout",
     "output_type": "stream",
     "text": [
      "WARNING:tensorflow:From c:\\Users\\heisu\\anaconda\\envs\\dsaie\\lib\\site-packages\\keras\\src\\backend.py:1398: The name tf.executing_eagerly_outside_functions is deprecated. Please use tf.compat.v1.executing_eagerly_outside_functions instead.\n",
      "\n",
      "WARNING:tensorflow:From c:\\Users\\heisu\\anaconda\\envs\\dsaie\\lib\\site-packages\\keras\\src\\layers\\pooling\\max_pooling2d.py:161: The name tf.nn.max_pool is deprecated. Please use tf.nn.max_pool2d instead.\n",
      "\n"
     ]
    }
   ],
   "source": [
    "# modules = [vgg16, resnet50, inception_v3, mobilenet, xception]\n",
    "# models = [vgg16.VGG16(), resnet50.ResNet50(), \n",
    "#           inception_v3.InceptionV3(), mobilenet.MobileNet(), \n",
    "#           xception.Xception()]\n",
    "\n",
    "# List of models that will be used\n",
    "modules = [vgg16, resnet50, mobilenet]\n",
    "models = [vgg16.VGG16(), resnet50.ResNet50(), mobilenet.MobileNet()]"
   ]
  },
  {
   "cell_type": "markdown",
   "metadata": {},
   "source": [
    "Function to extract the features from an image using a pretrained CNN"
   ]
  },
  {
   "cell_type": "code",
   "execution_count": 4,
   "metadata": {},
   "outputs": [],
   "source": [
    "def extract_features(file, model, module):\n",
    "    # load the image as a 224x224 array\n",
    "    img = load_img(file, target_size=(224,224))\n",
    "    # convert from 'PIL.Image.Image' to numpy array\n",
    "    img = np.array(img) \n",
    "    # reshape the data for the model reshape(num_of_samples, dim 1, dim 2, channels)\n",
    "    reshaped_img = img.reshape(1,224,224,3) \n",
    "    # prepare image for model\n",
    "    imgx = module.preprocess_input(reshaped_img)\n",
    "    # get the feature vector\n",
    "    features = model.predict(imgx, use_multiprocessing=True, verbose=0)\n",
    "    return features\n"
   ]
  },
  {
   "cell_type": "markdown",
   "metadata": {},
   "source": [
    "Function for extracting the features and timing it. After that, a simple k-means cluster will be used to cluster the data. The inertia of the clusters will be calculated, which can be used to compare the CNN's."
   ]
  },
  {
   "cell_type": "code",
   "execution_count": 5,
   "metadata": {},
   "outputs": [],
   "source": [
    "def test_model(file, model, module, n_cluster):\n",
    "    \"\"\"Input model and returns time it takes to create the feature extraction vectors and\n",
    "    a measure of accuracy when using kmeans on the feature extraction vectors\"\"\"\n",
    "\n",
    "    model = Model(inputs = model.inputs, outputs = model.layers[-2].output)\n",
    "    \n",
    "    data = {}\n",
    "    \n",
    "    start_time = time.time()\n",
    "\n",
    "    # loop through each image in the dataset\n",
    "    for image in images:\n",
    "        # try to extract the features and update the dictionary\n",
    "        try:\n",
    "            feat = extract_features(image,model,module)\n",
    "            data[image] = feat\n",
    "        # if something fails, save the extracted features as a pickle file (optional)\n",
    "        except:\n",
    "            print('Fail')\n",
    "            pass\n",
    "            \n",
    "    end_time = time.time()\n",
    "    time_taken = end_time - start_time\n",
    "\n",
    "    # get a list of just the features\n",
    "    feat = np.array(list(data.values()))\n",
    "\n",
    "    # reshape so that there are 210 samples of x no. of vectors\n",
    "    feat = feat.reshape(len(images),-1)\n",
    "\n",
    "\n",
    "    # get the unique labels (from the flower_labels.csv)\n",
    "    # df = pd.read_csv('flower_labels.csv')\n",
    "    # label = df['label'].tolist()\n",
    "    # unique_labels = list(set(label))\n",
    "\n",
    "\n",
    "    # reduce the amount of dimensions in the feature vector\n",
    "    pca = PCA(n_components=100, random_state=22)\n",
    "    \n",
    "    try:\n",
    "        pca.fit(feat)\n",
    "    except:\n",
    "        return np.nan, np.nan\n",
    "    x = pca.transform(feat)\n",
    "\n",
    "    kmeans = KMeans(n_clusters=n_cluster, random_state=22)\n",
    "    kmeans.fit(x)\n",
    "   \n",
    "    sse = kmeans.inertia_\n",
    "\n",
    "    return time_taken, sse"
   ]
  },
  {
   "cell_type": "markdown",
   "metadata": {},
   "source": [
    "Run the for-loop over the different models for a certain number of iterations.\n",
    "The time taken to extract the features and the inertia will be saved in a 2d array"
   ]
  },
  {
   "cell_type": "code",
   "execution_count": 19,
   "metadata": {},
   "outputs": [
    {
     "name": "stdout",
     "output_type": "stream",
     "text": [
      "\n",
      "Start with new model: 0\n",
      "Number of clusters: 1\n",
      "Iteration 0\n",
      "Iteration 1\n",
      "Iteration 2\n",
      "Iteration 3\n",
      "Iteration 4\n",
      "Number of clusters: 2\n",
      "Iteration 0\n",
      "Iteration 1\n",
      "Iteration 2\n",
      "Iteration 3\n",
      "Iteration 4\n",
      "Number of clusters: 3\n",
      "Iteration 0\n",
      "Iteration 1\n",
      "Iteration 2\n",
      "Iteration 3\n",
      "Iteration 4\n",
      "Number of clusters: 4\n",
      "Iteration 0\n",
      "Iteration 1\n",
      "Iteration 2\n",
      "Iteration 3\n",
      "Iteration 4\n",
      "Number of clusters: 5\n",
      "Iteration 0\n",
      "Iteration 1\n",
      "Iteration 2\n",
      "Iteration 3\n",
      "Iteration 4\n",
      "Number of clusters: 6\n",
      "Iteration 0\n",
      "Iteration 1\n",
      "Iteration 2\n",
      "Iteration 3\n",
      "Iteration 4\n",
      "Number of clusters: 7\n",
      "Iteration 0\n",
      "Iteration 1\n",
      "Iteration 2\n",
      "Iteration 3\n",
      "Iteration 4\n",
      "Number of clusters: 8\n",
      "Iteration 0\n",
      "Iteration 1\n",
      "Iteration 2\n",
      "Iteration 3\n",
      "Iteration 4\n",
      "Number of clusters: 9\n",
      "Iteration 0\n",
      "Iteration 1\n",
      "Iteration 2\n",
      "Iteration 3\n",
      "Iteration 4\n",
      "Number of clusters: 10\n",
      "Iteration 0\n",
      "Iteration 1\n",
      "Iteration 2\n",
      "Iteration 3\n",
      "Iteration 4\n",
      "\n",
      "Start with new model: 1\n",
      "Number of clusters: 1\n",
      "Iteration 0\n",
      "Iteration 1\n",
      "Iteration 2\n",
      "Iteration 3\n",
      "Iteration 4\n",
      "Number of clusters: 2\n",
      "Iteration 0\n",
      "Iteration 1\n",
      "Iteration 2\n",
      "Iteration 3\n",
      "Iteration 4\n",
      "Number of clusters: 3\n",
      "Iteration 0\n",
      "Iteration 1\n",
      "Iteration 2\n",
      "Iteration 3\n",
      "Iteration 4\n",
      "Number of clusters: 4\n",
      "Iteration 0\n",
      "Iteration 1\n",
      "Iteration 2\n",
      "Iteration 3\n",
      "Iteration 4\n",
      "Number of clusters: 5\n",
      "Iteration 0\n",
      "Iteration 1\n",
      "Iteration 2\n",
      "Iteration 3\n",
      "Iteration 4\n",
      "Number of clusters: 6\n",
      "Iteration 0\n",
      "Iteration 1\n",
      "Iteration 2\n",
      "Iteration 3\n",
      "Iteration 4\n",
      "Number of clusters: 7\n",
      "Iteration 0\n",
      "Iteration 1\n",
      "Iteration 2\n",
      "Iteration 3\n",
      "Iteration 4\n",
      "Number of clusters: 8\n",
      "Iteration 0\n",
      "Iteration 1\n",
      "Iteration 2\n",
      "Iteration 3\n",
      "Iteration 4\n",
      "Number of clusters: 9\n",
      "Iteration 0\n",
      "Iteration 1\n",
      "Iteration 2\n",
      "Iteration 3\n",
      "Iteration 4\n",
      "Number of clusters: 10\n",
      "Iteration 0\n",
      "Iteration 1\n",
      "Iteration 2\n",
      "Iteration 3\n",
      "Iteration 4\n",
      "\n",
      "Start with new model: 2\n",
      "Number of clusters: 1\n",
      "Iteration 0\n",
      "Iteration 1\n",
      "Iteration 2\n",
      "Iteration 3\n",
      "Iteration 4\n",
      "Number of clusters: 2\n",
      "Iteration 0\n",
      "Iteration 1\n",
      "Iteration 2\n",
      "Iteration 3\n",
      "Iteration 4\n",
      "Number of clusters: 3\n",
      "Iteration 0\n",
      "Iteration 1\n",
      "Iteration 2\n",
      "Iteration 3\n",
      "Iteration 4\n",
      "Number of clusters: 4\n",
      "Iteration 0\n",
      "Iteration 1\n",
      "Iteration 2\n",
      "Iteration 3\n",
      "Iteration 4\n",
      "Number of clusters: 5\n",
      "Iteration 0\n",
      "Iteration 1\n",
      "Iteration 2\n",
      "Iteration 3\n",
      "Iteration 4\n",
      "Number of clusters: 6\n",
      "Iteration 0\n",
      "Iteration 1\n",
      "Iteration 2\n",
      "Iteration 3\n",
      "Iteration 4\n",
      "Number of clusters: 7\n",
      "Iteration 0\n",
      "Iteration 1\n",
      "Iteration 2\n",
      "Iteration 3\n",
      "Iteration 4\n",
      "Number of clusters: 8\n",
      "Iteration 0\n",
      "Iteration 1\n",
      "Iteration 2\n",
      "Iteration 3\n",
      "Iteration 4\n",
      "Number of clusters: 9\n",
      "Iteration 0\n",
      "Iteration 1\n",
      "Iteration 2\n",
      "Iteration 3\n",
      "Iteration 4\n",
      "Number of clusters: 10\n",
      "Iteration 0\n",
      "Iteration 1\n",
      "Iteration 2\n",
      "Iteration 3\n",
      "Iteration 4\n"
     ]
    }
   ],
   "source": [
    "iter = 5 # number of iterations\n",
    "N_cluster = [i for i in range(1, 11)]    # from 1 to 10 clusters\n",
    "time_taken_arr = np.zeros((len(models), len(N_cluster), iter))\n",
    "sse_arr = np.zeros((len(models), len(N_cluster), iter))\n",
    "\n",
    "for m in range(len(models)):\n",
    "    print(f'\\nStart with new model: {m}')\n",
    "    for cluster in N_cluster:\n",
    "        print(f'Number of clusters: {cluster}')\n",
    "        for i in range(iter):\n",
    "            print(f'Iteration {i}')\n",
    "            time_taken, sse = test_model(file, models[m], modules[m], cluster)\n",
    "            time_taken_arr[m, cluster-1, i] = time_taken\n",
    "            sse_arr[m, cluster-1, i] = sse"
   ]
  },
  {
   "cell_type": "code",
   "execution_count": 20,
   "metadata": {},
   "outputs": [
    {
     "data": {
      "text/plain": [
       "array([[[18.75327277, 20.08753681, 19.40399051, 18.86248708,\n",
       "         18.9825964 ],\n",
       "        [19.0041275 , 19.35296416, 19.428514  , 19.42093086,\n",
       "         19.58340573],\n",
       "        [19.65715003, 19.70846367, 19.54271007, 19.67169809,\n",
       "         19.47302866],\n",
       "        [19.56399941, 19.7763288 , 19.55078506, 19.55447912,\n",
       "         19.60576773],\n",
       "        [19.6356771 , 19.35694957, 19.42096972, 19.42101264,\n",
       "         19.36011219],\n",
       "        [19.52112246, 19.61765456, 19.37685204, 19.340096  ,\n",
       "         19.50065398],\n",
       "        [19.39109969, 19.33766794, 19.6394937 , 19.29614902,\n",
       "         19.38092589],\n",
       "        [19.63297939, 19.40547729, 19.3124249 , 19.40237284,\n",
       "         19.23377013],\n",
       "        [19.39587927, 19.54291987, 19.40083146, 19.40077806,\n",
       "         19.50469708],\n",
       "        [19.64605165, 19.32197237, 19.45558286, 19.39239144,\n",
       "         19.43602586]],\n",
       "\n",
       "       [[13.64270163, 14.26895094, 14.75800729, 14.83721781,\n",
       "         14.38705111],\n",
       "        [14.56331253, 14.36974621, 14.29453659, 14.78078794,\n",
       "         14.45902896],\n",
       "        [14.54023337, 14.54122615, 14.21297407, 14.36224961,\n",
       "         14.48943377],\n",
       "        [14.47029853, 14.51456594, 14.59657645, 14.42574263,\n",
       "         14.67485142],\n",
       "        [14.50685167, 14.52278614, 14.4480598 , 14.47393155,\n",
       "         14.57191777],\n",
       "        [14.90765095, 14.32327127, 14.54871249, 14.60106516,\n",
       "         14.58315945],\n",
       "        [14.44112778, 14.97315049, 14.37028503, 14.57639432,\n",
       "         14.52604151],\n",
       "        [14.42458868, 14.57324004, 14.58465648, 14.60068202,\n",
       "         14.41777492],\n",
       "        [14.57604408, 14.33906913, 15.20542169, 14.08532906,\n",
       "         13.94035745],\n",
       "        [13.94078803, 14.05673695, 13.99593544, 14.13457942,\n",
       "         14.77969742]],\n",
       "\n",
       "       [[ 8.79991245,  8.98998976,  8.78682232,  8.71459937,\n",
       "          8.55616474],\n",
       "        [ 8.71554923,  8.51172924,  8.89965463,  8.7734642 ,\n",
       "          8.67864561],\n",
       "        [ 8.6710434 ,  8.53641725,  8.68333149,  8.61517906,\n",
       "          8.74569845],\n",
       "        [ 8.67893386,  8.75895715,  8.48937201,  8.47187543,\n",
       "          8.5456717 ],\n",
       "        [ 8.6926403 ,  8.7022748 ,  8.60809445,  8.40445209,\n",
       "          8.53581595],\n",
       "        [ 8.6015842 ,  8.64742923,  8.65784502,  8.67136431,\n",
       "          8.67411757],\n",
       "        [ 8.72611022,  8.42850089,  8.45015597,  8.44407916,\n",
       "          8.73911214],\n",
       "        [ 8.73428106,  8.74374604,  8.60816145,  8.81312013,\n",
       "          8.64713621],\n",
       "        [ 8.73130393,  8.51639104,  8.94827604,  8.73633695,\n",
       "          8.80846167],\n",
       "        [ 8.59514832,  8.78028345,  8.50199485,  8.65330815,\n",
       "          8.83268476]]])"
      ]
     },
     "execution_count": 20,
     "metadata": {},
     "output_type": "execute_result"
    }
   ],
   "source": [
    "time_taken_arr"
   ]
  },
  {
   "cell_type": "code",
   "execution_count": 21,
   "metadata": {},
   "outputs": [
    {
     "data": {
      "text/plain": [
       "array([[[182178.375     , 182178.375     , 182178.375     ,\n",
       "         182178.375     , 182178.375     ],\n",
       "        [142939.203125  , 142939.203125  , 142939.203125  ,\n",
       "         142939.203125  , 142939.203125  ],\n",
       "        [132024.5625    , 132024.5625    , 132024.5625    ,\n",
       "         132024.5625    , 132024.5625    ],\n",
       "        [121612.3515625 , 121612.3515625 , 121612.3515625 ,\n",
       "         121612.3515625 , 121612.3515625 ],\n",
       "        [116198.09375   , 116198.09375   , 116198.09375   ,\n",
       "         116198.09375   , 116198.09375   ],\n",
       "        [113572.2109375 , 113572.2109375 , 113572.2109375 ,\n",
       "         113572.2109375 , 113572.2109375 ],\n",
       "        [109204.1015625 , 109204.1015625 , 109204.1015625 ,\n",
       "         109204.1015625 , 109204.1015625 ],\n",
       "        [107094.1796875 , 107094.1796875 , 107094.1796875 ,\n",
       "         107094.1796875 , 107094.1796875 ],\n",
       "        [103692.6875    , 103692.6875    , 103692.6875    ,\n",
       "         103692.6875    , 103692.6875    ],\n",
       "        [ 99197.6796875 ,  99197.6796875 ,  99197.6796875 ,\n",
       "          99197.6796875 ,  99197.6796875 ]],\n",
       "\n",
       "       [[ 50998.63671875,  50998.63671875,  50998.63671875,\n",
       "          50998.63671875,  50998.63671875],\n",
       "        [ 38893.07421875,  38893.07421875,  38893.07421875,\n",
       "          38893.07421875,  38893.07421875],\n",
       "        [ 35947.16796875,  35947.16796875,  35947.16796875,\n",
       "          35947.16796875,  35947.16796875],\n",
       "        [ 33255.140625  ,  33255.140625  ,  33255.140625  ,\n",
       "          33255.140625  ,  33255.140625  ],\n",
       "        [ 30886.84765625,  30886.84765625,  30886.84765625,\n",
       "          30886.84765625,  30886.84765625],\n",
       "        [ 29411.26171875,  29411.26171875,  29411.26171875,\n",
       "          29411.26171875,  29411.26171875],\n",
       "        [ 28568.26953125,  28568.26953125,  28568.26953125,\n",
       "          28568.26953125,  28568.26953125],\n",
       "        [ 27281.90625   ,  27281.90625   ,  27281.90625   ,\n",
       "          27281.90625   ,  27281.90625   ],\n",
       "        [ 26326.1796875 ,  26326.1796875 ,  26326.1796875 ,\n",
       "          26326.1796875 ,  26326.1796875 ],\n",
       "        [ 25155.69140625,  25155.69140625,  25155.69140625,\n",
       "          25155.69140625,  25155.69140625]],\n",
       "\n",
       "       [[256340.71875   , 256340.71875   , 256340.71875   ,\n",
       "         256340.71875   , 256340.71875   ],\n",
       "        [197065.65625   , 197065.65625   , 197065.65625   ,\n",
       "         197065.65625   , 197065.65625   ],\n",
       "        [179235.859375  , 179235.859375  , 179235.859375  ,\n",
       "         179235.859375  , 179235.859375  ],\n",
       "        [166047.109375  , 166047.109375  , 166047.109375  ,\n",
       "         166047.109375  , 166047.109375  ],\n",
       "        [157936.125     , 157936.125     , 157936.125     ,\n",
       "         157936.125     , 157936.125     ],\n",
       "        [152107.453125  , 152107.453125  , 152107.453125  ,\n",
       "         152107.453125  , 152107.453125  ],\n",
       "        [146077.953125  , 146077.953125  , 146077.953125  ,\n",
       "         146077.953125  , 146077.953125  ],\n",
       "        [141698.3125    , 141698.3125    , 141698.3125    ,\n",
       "         141698.3125    , 141698.3125    ],\n",
       "        [133311.453125  , 133311.453125  , 133311.453125  ,\n",
       "         133311.453125  , 133311.453125  ],\n",
       "        [130813.8203125 , 130813.8203125 , 130813.8203125 ,\n",
       "         130813.8203125 , 130813.8203125 ]]])"
      ]
     },
     "execution_count": 21,
     "metadata": {},
     "output_type": "execute_result"
    }
   ],
   "source": [
    "sse_arr"
   ]
  },
  {
   "cell_type": "code",
   "execution_count": 22,
   "metadata": {},
   "outputs": [
    {
     "data": {
      "text/plain": [
       "([<matplotlib.axis.XTick at 0x1ced19a9d00>,\n",
       "  <matplotlib.axis.XTick at 0x1ced19a9070>,\n",
       "  <matplotlib.axis.XTick at 0x1cec0338820>,\n",
       "  <matplotlib.axis.XTick at 0x1ceda899ac0>,\n",
       "  <matplotlib.axis.XTick at 0x1cedbe7a220>,\n",
       "  <matplotlib.axis.XTick at 0x1cec0f1e9a0>,\n",
       "  <matplotlib.axis.XTick at 0x1cedaa6f160>,\n",
       "  <matplotlib.axis.XTick at 0x1ceda8a77c0>,\n",
       "  <matplotlib.axis.XTick at 0x1ceda8a7940>,\n",
       "  <matplotlib.axis.XTick at 0x1ceda8a74c0>],\n",
       " [Text(0, 0, ''),\n",
       "  Text(0, 0, ''),\n",
       "  Text(0, 0, ''),\n",
       "  Text(0, 0, ''),\n",
       "  Text(0, 0, ''),\n",
       "  Text(0, 0, ''),\n",
       "  Text(0, 0, ''),\n",
       "  Text(0, 0, ''),\n",
       "  Text(0, 0, ''),\n",
       "  Text(0, 0, '')])"
      ]
     },
     "execution_count": 22,
     "metadata": {},
     "output_type": "execute_result"
    },
    {
     "data": {
      "image/png": "[encoded data removed]",
      "text/plain": [
       "<Figure size 640x480 with 1 Axes>"
      ]
     },
     "metadata": {},
     "output_type": "display_data"
    }
   ],
   "source": [
    "# time taken per number of clusters\n",
    "plt.plot(N_cluster, np.mean(time_taken_arr[0], axis=1), label='VGG16')\n",
    "plt.plot(N_cluster, np.mean(time_taken_arr[1], axis=1), label='ResNet50')\n",
    "plt.plot(N_cluster, np.mean(time_taken_arr[2], axis=1), label='MobileNet')\n",
    "plt.xlabel('Number of clusters')\n",
    "plt.ylabel('Time taken (s)')\n",
    "plt.legend()\n",
    "plt.xticks(N_cluster)"
   ]
  },
  {
   "cell_type": "code",
   "execution_count": 23,
   "metadata": {},
   "outputs": [
    {
     "data": {
      "text/plain": [
       "([<matplotlib.axis.XTick at 0x1cec00d6220>,\n",
       "  <matplotlib.axis.XTick at 0x1ce2f09d580>,\n",
       "  <matplotlib.axis.XTick at 0x1cedbf5b550>,\n",
       "  <matplotlib.axis.XTick at 0x1ced138fdc0>,\n",
       "  <matplotlib.axis.XTick at 0x1cedbe7ad60>,\n",
       "  <matplotlib.axis.XTick at 0x1ced1554460>,\n",
       "  <matplotlib.axis.XTick at 0x1ced138f400>,\n",
       "  <matplotlib.axis.XTick at 0x1ced1554130>,\n",
       "  <matplotlib.axis.XTick at 0x1ced183d160>,\n",
       "  <matplotlib.axis.XTick at 0x1ced183df10>],\n",
       " [Text(0, 0, ''),\n",
       "  Text(0, 0, ''),\n",
       "  Text(0, 0, ''),\n",
       "  Text(0, 0, ''),\n",
       "  Text(0, 0, ''),\n",
       "  Text(0, 0, ''),\n",
       "  Text(0, 0, ''),\n",
       "  Text(0, 0, ''),\n",
       "  Text(0, 0, ''),\n",
       "  Text(0, 0, '')])"
      ]
     },
     "execution_count": 23,
     "metadata": {},
     "output_type": "execute_result"
    },
    {
     "data": {
      "image/png": "[encoded data removed]",
      "text/plain": [
       "<Figure size 640x480 with 1 Axes>"
      ]
     },
     "metadata": {},
     "output_type": "display_data"
    }
   ],
   "source": [
    "# sse per number of clusters\n",
    "plt.plot(N_cluster, np.mean(sse_arr[0], axis=1), label='VGG16')\n",
    "plt.plot(N_cluster, np.mean(sse_arr[1], axis=1), label='ResNet50')\n",
    "plt.plot(N_cluster, np.mean(sse_arr[2], axis=1), label='MobileNet')\n",
    "plt.xlabel('Number of clusters')\n",
    "plt.ylabel('SSE')\n",
    "plt.legend()\n",
    "plt.xticks(N_cluster)"
   ]
  },
  {
   "cell_type": "code",
   "execution_count": 66,
   "metadata": {},
   "outputs": [
    {
     "data": {
      "image/png": "[encoded data removed]",
      "text/plain": [
       "<Figure size 640x480 with 1 Axes>"
      ]
     },
     "metadata": {},
     "output_type": "display_data"
    }
   ],
   "source": [
    "plt.boxplot(time_taken_arr.T)\n",
    "plt.xticks([1, 2, 3], labels=['VGG16', 'ResNet50', 'MobileNet'])\n",
    "plt.ylabel('Time to complete feature extraction [s]')\n",
    "plt.title('Speed comparison for several neural networks')\n",
    "plt.grid(axis='y')"
   ]
  },
  {
   "cell_type": "code",
   "execution_count": 67,
   "metadata": {},
   "outputs": [
    {
     "data": {
      "image/png": "[encoded data removed]",
      "text/plain": [
       "<Figure size 640x480 with 1 Axes>"
      ]
     },
     "metadata": {},
     "output_type": "display_data"
    }
   ],
   "source": [
    "plt.boxplot(sse_arr.T)\n",
    "plt.xticks([1, 2, 3], labels=['VGG16', 'ResNet50', 'MobileNet'])\n",
    "plt.ylabel('Error')\n",
    "plt.title('Inertia comparison for several neural networks')\n",
    "plt.grid(axis='y')"
   ]
  }
 ],
 "metadata": {
  "kernelspec": {
   "display_name": "dsaie",
   "language": "python",
   "name": "python3"
  },
  "language_info": {
   "codemirror_mode": {
    "name": "ipython",
    "version": 3
   },
   "file_extension": ".py",
   "mimetype": "text/x-python",
   "name": "python",
   "nbconvert_exporter": "python",
   "pygments_lexer": "ipython3",
   "version": "3.9.17"
  }
 },
 "nbformat": 4,
 "nbformat_minor": 2
}
