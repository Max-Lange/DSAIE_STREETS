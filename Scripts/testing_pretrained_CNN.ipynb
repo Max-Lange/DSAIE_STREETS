{
 "cells": [
  {
   "cell_type": "markdown",
   "metadata": {},
   "source": [
    "## Testing several pre-trained CNN's to determine which one to use for the project"
   ]
  },
  {
   "cell_type": "code",
   "execution_count": 1,
   "metadata": {},
   "outputs": [
    {
     "name": "stdout",
     "output_type": "stream",
     "text": [
      "WARNING:tensorflow:From c:\\Users\\janin\\anaconda3\\envs\\geospatial\\lib\\site-packages\\keras\\src\\losses.py:2976: The name tf.losses.sparse_softmax_cross_entropy is deprecated. Please use tf.compat.v1.losses.sparse_softmax_cross_entropy instead.\n",
      "\n"
     ]
    }
   ],
   "source": [
    "# for loading/processing the images and the models  \n",
    "from keras.preprocessing.image import load_img \n",
    "from keras.preprocessing.image import img_to_array \n",
    "from keras.applications import vgg16, resnet50, inception_v3, mobilenet, xception  \n",
    "from keras.models import Model\n",
    "\n",
    "# clustering and dimension reduction\n",
    "from sklearn.cluster import KMeans\n",
    "from sklearn.decomposition import PCA\n",
    "\n",
    "# for everything else\n",
    "import os\n",
    "import numpy as np\n",
    "import matplotlib.pyplot as plt\n",
    "from random import randint\n",
    "import pandas as pd\n",
    "import pickle\n",
    "import time\n",
    "import warnings\n",
    "warnings.filterwarnings('ignore')\n",
    "%matplotlib inline"
   ]
  },
  {
   "cell_type": "markdown",
   "metadata": {},
   "source": [
    "This code uses a dataset of 210 flower images to test the CNN's. Dataset is retreived from: https://www.kaggle.com/datasets/olgabelitskaya/flower-color-images"
   ]
  },
  {
   "cell_type": "code",
   "execution_count": 2,
   "metadata": {},
   "outputs": [],
   "source": [
    "# Change path\n",
    "path = r\"C:\\Users\\janin\\flower_images\\flower_images\" \n",
    "\n",
    "os.chdir(path)\n",
    "\n",
    "# this list holds all the image filename\n",
    "flowers = []\n",
    "\n",
    "# creates a ScandirIterator aliased as files\n",
    "with os.scandir(path) as files:\n",
    "  # loops through each file in the directory\n",
    "    for file in files:\n",
    "        if file.name.endswith('.png'):\n",
    "          # adds only the image files to the flowers list\n",
    "            flowers.append(file.name)"
   ]
  },
  {
   "cell_type": "markdown",
   "metadata": {},
   "source": [
    "Select which models you want to compare"
   ]
  },
  {
   "cell_type": "code",
   "execution_count": 41,
   "metadata": {},
   "outputs": [],
   "source": [
    "# modules = [vgg16, resnet50, inception_v3, mobilenet, xception]\n",
    "# models = [vgg16.VGG16(), resnet50.ResNet50(), \n",
    "#           inception_v3.InceptionV3(), mobilenet.MobileNet(), \n",
    "#           xception.Xception()]\n",
    "\n",
    "# List of models that will be used\n",
    "modules = [vgg16, resnet50, mobilenet]\n",
    "models = [vgg16.VGG16(), resnet50.ResNet50(), mobilenet.MobileNet()]"
   ]
  },
  {
   "cell_type": "markdown",
   "metadata": {},
   "source": [
    "Function to extract the features from an image using a pretrained CNN"
   ]
  },
  {
   "cell_type": "code",
   "execution_count": 43,
   "metadata": {},
   "outputs": [],
   "source": [
    "def extract_features(file, model, module):\n",
    "    # load the image as a 224x224 array\n",
    "    img = load_img(file, target_size=(224,224))\n",
    "    # convert from 'PIL.Image.Image' to numpy array\n",
    "    img = np.array(img) \n",
    "    # reshape the data for the model reshape(num_of_samples, dim 1, dim 2, channels)\n",
    "    reshaped_img = img.reshape(1,224,224,3) \n",
    "    # prepare image for model\n",
    "    imgx = module.preprocess_input(reshaped_img)\n",
    "    # get the feature vector\n",
    "    features = model.predict(imgx, use_multiprocessing=True, verbose=0)\n",
    "    return features\n"
   ]
  },
  {
   "cell_type": "markdown",
   "metadata": {},
   "source": [
    "Function for extracting the features and timing it. After that, a simple k-means cluster will be used to cluster the data. The inertia of the clusters will be calculated, which can be used to compare the CNN's."
   ]
  },
  {
   "cell_type": "code",
   "execution_count": 44,
   "metadata": {},
   "outputs": [],
   "source": [
    "def test_model(file, model, module):\n",
    "    \"\"\"Input model and returns time it takes to create the feature extraction vectors and\n",
    "    a measure of accuracy when using kmeans on the feature extraction vectors\"\"\"\n",
    "\n",
    "    model = Model(inputs = model.inputs, outputs = model.layers[-2].output)\n",
    "    \n",
    "    data = {}\n",
    "    \n",
    "    start_time = time.time()\n",
    "\n",
    "    # loop through each image in the dataset\n",
    "    for flower in flowers:\n",
    "        # try to extract the features and update the dictionary\n",
    "        try:\n",
    "            feat = extract_features(flower,model,module)\n",
    "            data[flower] = feat\n",
    "        # if something fails, save the extracted features as a pickle file (optional)\n",
    "        except:\n",
    "            print('Fail')\n",
    "            pass\n",
    "            \n",
    "    end_time = time.time()\n",
    "    time_taken = end_time - start_time\n",
    "\n",
    "    # get a list of just the features\n",
    "    feat = np.array(list(data.values()))\n",
    "\n",
    "    # reshape so that there are 210 samples of x no. of vectors\n",
    "    feat = feat.reshape(len(flowers),-1)\n",
    "\n",
    "\n",
    "    # get the unique labels (from the flower_labels.csv)\n",
    "    df = pd.read_csv('flower_labels.csv')\n",
    "    label = df['label'].tolist()\n",
    "    unique_labels = list(set(label))\n",
    "\n",
    "    # reduce the amount of dimensions in the feature vector\n",
    "    pca = PCA(n_components=100, random_state=22)\n",
    "    \n",
    "    try:\n",
    "        pca.fit(feat)\n",
    "    except:\n",
    "        return np.nan, np.nan\n",
    "    x = pca.transform(feat)\n",
    "\n",
    "    kmeans = KMeans(n_clusters=len(unique_labels), random_state=22)\n",
    "    kmeans.fit(x)\n",
    "   \n",
    "    sse = kmeans.inertia_\n",
    "\n",
    "    return time_taken, sse"
   ]
  },
  {
   "cell_type": "markdown",
   "metadata": {},
   "source": [
    "Run the for-loop over the different models for a certain number of iterations.\n",
    "The time taken to extract the features and the inertia will be saved in a 2d array"
   ]
  },
  {
   "cell_type": "code",
   "execution_count": 45,
   "metadata": {},
   "outputs": [
    {
     "name": "stdout",
     "output_type": "stream",
     "text": [
      "\n",
      "Start with new model: 0\n",
      "Iteration 0\n",
      "Iteration 1\n",
      "Iteration 2\n",
      "Iteration 3\n",
      "Iteration 4\n",
      "\n",
      "Start with new model: 1\n",
      "Iteration 0\n",
      "Iteration 1\n",
      "Iteration 2\n",
      "Iteration 3\n",
      "Iteration 4\n",
      "\n",
      "Start with new model: 2\n",
      "Iteration 0\n",
      "Iteration 1\n",
      "Iteration 2\n",
      "Iteration 3\n",
      "Iteration 4\n"
     ]
    }
   ],
   "source": [
    "iter = 5 # number of iterations\n",
    "time_taken_arr = np.zeros((len(models), iter))\n",
    "sse_arr = np.zeros((len(models), iter))\n",
    "\n",
    "for m in range(len(models)):\n",
    "    print(f'\\nStart with new model: {m}')\n",
    "    for i in range(iter):\n",
    "        print(f'Iteration {i}')\n",
    "        time_taken, sse = test_model(file, models[m], modules[m])\n",
    "        time_taken_arr[m, i] = time_taken\n",
    "        sse_arr[m, i] = sse"
   ]
  },
  {
   "cell_type": "code",
   "execution_count": 46,
   "metadata": {},
   "outputs": [
    {
     "data": {
      "text/plain": [
       "array([[ 45.61501431,  44.17175293,  45.0232625 ,  64.05341983,\n",
       "        102.97443271],\n",
       "       [100.02671599, 100.61506724, 108.07975578, 103.00769377,\n",
       "        106.55430722],\n",
       "       [ 55.06615305,  56.02978396,  54.52557516,  57.10645628,\n",
       "         53.23780918]])"
      ]
     },
     "execution_count": 46,
     "metadata": {},
     "output_type": "execute_result"
    }
   ],
   "source": [
    "time_taken_arr"
   ]
  },
  {
   "cell_type": "code",
   "execution_count": 47,
   "metadata": {},
   "outputs": [
    {
     "data": {
      "text/plain": [
       "array([[486793.4375  , 486793.4375  , 486793.4375  , 486793.4375  ,\n",
       "        486793.4375  ],\n",
       "       [ 67713.234375,  67713.234375,  67713.234375,  67713.234375,\n",
       "         67713.234375],\n",
       "       [506355.4375  , 506355.4375  , 506355.4375  , 506355.4375  ,\n",
       "        506355.4375  ]])"
      ]
     },
     "execution_count": 47,
     "metadata": {},
     "output_type": "execute_result"
    }
   ],
   "source": [
    "sse_arr"
   ]
  },
  {
   "cell_type": "code",
   "execution_count": 66,
   "metadata": {},
   "outputs": [
    {
     "data": {
      "image/png": "[encoded data removed]",
      "text/plain": [
       "<Figure size 640x480 with 1 Axes>"
      ]
     },
     "metadata": {},
     "output_type": "display_data"
    }
   ],
   "source": [
    "plt.boxplot(time_taken_arr.T)\n",
    "plt.xticks([1, 2, 3], labels=['VGG16', 'ResNet50', 'MobileNet'])\n",
    "plt.ylabel('Time to complete feature extraction [s]')\n",
    "plt.title('Speed comparison for several neural networks')\n",
    "plt.grid(axis='y')"
   ]
  },
  {
   "cell_type": "code",
   "execution_count": 67,
   "metadata": {},
   "outputs": [
    {
     "data": {
      "image/png": "[encoded data removed]",
      "text/plain": [
       "<Figure size 640x480 with 1 Axes>"
      ]
     },
     "metadata": {},
     "output_type": "display_data"
    }
   ],
   "source": [
    "plt.boxplot(sse_arr.T)\n",
    "plt.xticks([1, 2, 3], labels=['VGG16', 'ResNet50', 'MobileNet'])\n",
    "plt.ylabel('Error')\n",
    "plt.title('Inertia comparison for several neural networks')\n",
    "plt.grid(axis='y')"
   ]
  },
  {
   "cell_type": "code",
   "execution_count": null,
   "metadata": {},
   "outputs": [],
   "source": []
  }
 ],
 "metadata": {
  "kernelspec": {
   "display_name": "geospatial",
   "language": "python",
   "name": "geospatial"
  },
  "language_info": {
   "codemirror_mode": {
    "name": "ipython",
    "version": 3
   },
   "file_extension": ".py",
   "mimetype": "text/x-python",
   "name": "python",
   "nbconvert_exporter": "python",
   "pygments_lexer": "ipython3",
   "version": "3.9.18"
  }
 },
 "nbformat": 4,
 "nbformat_minor": 2
}
